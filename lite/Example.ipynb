{
 "cells": [
  {
   "cell_type": "markdown",
   "id": "2e753c7a-0fdf-41a7-ac3c-01e03fb11676",
   "metadata": {},
   "source": [
    "# `doitoml` Interactive Demo"
   ]
  },
  {
   "cell_type": "code",
   "execution_count": null,
   "id": "814e7a75-ab5b-4707-b1e4-f480b75100cd",
   "metadata": {
    "tags": []
   },
   "outputs": [],
   "source": [
    "if LITE := __name__ == \"__main__\" and \"pyodide\" in __import__(\"sys\").modules:\n",
    "    %pip install -r requirements.txt"
   ]
  },
  {
   "cell_type": "code",
   "execution_count": null,
   "id": "29f1f442-1090-4ee3-9954-01160c50d33f",
   "metadata": {},
   "outputs": [],
   "source": [
    "import doitoml_magic"
   ]
  },
  {
   "cell_type": "markdown",
   "id": "6a5bf8b6-5c58-4dc8-8dc8-c87e0fec78dd",
   "metadata": {},
   "source": [
    "## `doit list`"
   ]
  },
  {
   "cell_type": "code",
   "execution_count": null,
   "id": "98debaa8-42f3-44c6-8ff5-1c68c29f177c",
   "metadata": {
    "tags": []
   },
   "outputs": [],
   "source": [
    "%doitoml list --all --status"
   ]
  },
  {
   "cell_type": "markdown",
   "id": "6c10e443-29d1-4817-bfcb-03b362c08e4d",
   "metadata": {},
   "source": [
    "## `doit [run]`"
   ]
  },
  {
   "cell_type": "code",
   "execution_count": null,
   "id": "cbc96848-15f5-405d-bd8a-f50e926c4a18",
   "metadata": {
    "tags": []
   },
   "outputs": [],
   "source": [
    "%doitoml demo:greet\n",
    "%doitoml run demo:greet"
   ]
  },
  {
   "cell_type": "markdown",
   "id": "36ad95b9-aafe-41be-9002-95fe02b8fa0e",
   "metadata": {},
   "source": [
    "## Looking at `doitoml`\n",
    "\n",
    "This is defined inside `dodo.py`."
   ]
  },
  {
   "cell_type": "code",
   "execution_count": null,
   "id": "e7f72202-8834-417c-a292-69bbd260499d",
   "metadata": {
    "tags": []
   },
   "outputs": [],
   "source": [
    "%doitoml demo:show"
   ]
  },
  {
   "cell_type": "code",
   "execution_count": null,
   "id": "51f01291-459d-4055-bbb2-484af6425b54",
   "metadata": {
    "tags": []
   },
   "outputs": [],
   "source": [
    "%doitoml demo:mermaid"
   ]
  }
 ],
 "metadata": {
  "kernelspec": {
   "display_name": "Python 3 (ipykernel)",
   "language": "python",
   "name": "python3"
  },
  "language_info": {
   "codemirror_mode": {
    "name": "ipython",
    "version": 3
   },
   "file_extension": ".py",
   "mimetype": "text/x-python",
   "name": "python",
   "nbconvert_exporter": "python",
   "pygments_lexer": "ipython3",
   "version": "3.11.3"
  }
 },
 "nbformat": 4,
 "nbformat_minor": 5
}
