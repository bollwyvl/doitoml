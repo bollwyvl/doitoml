{
 "cells": [
  {
   "cell_type": "markdown",
   "id": "2e753c7a-0fdf-41a7-ac3c-01e03fb11676",
   "metadata": {},
   "source": [
    "# `doitoml` interactive demo\n",
    "\n",
    "Learn about `doitoml` by trying it **right now**."
   ]
  },
  {
   "cell_type": "code",
   "execution_count": 1,
   "id": "814e7a75-ab5b-4707-b1e4-f480b75100cd",
   "metadata": {
    "tags": []
   },
   "outputs": [],
   "source": [
    "if LITE := __import__(\"platform\").machine() == \"wasm32\":\n",
    "    %pip install -r requirements.txt"
   ]
  },
  {
   "cell_type": "markdown",
   "id": "ff75235a-4d0e-4740-b963-825ee1549922",
   "metadata": {},
   "source": [
    "Here's a custom magic for working with `doitoml` like the `doit` CLI."
   ]
  },
  {
   "cell_type": "code",
   "execution_count": 2,
   "id": "29f1f442-1090-4ee3-9954-01160c50d33f",
   "metadata": {
    "tags": []
   },
   "outputs": [],
   "source": [
    "%reload_ext autoreload\n",
    "%autoreload 2\n",
    "import dodo"
   ]
  },
  {
   "cell_type": "markdown",
   "id": "357490fc-b68a-4a48-933f-c0a4d1d9de3e",
   "metadata": {},
   "source": [
    "## the `doit` CLI\n",
    "\n",
    "`doit` doesn't add any new CLI yet: it just helps you get more out of `doit`."
   ]
  },
  {
   "cell_type": "code",
   "execution_count": 3,
   "id": "9af3602d-b339-4575-b834-a020392e1884",
   "metadata": {
    "tags": []
   },
   "outputs": [
    {
     "name": "stdout",
     "output_type": "stream",
     "text": [
      "doit -- automation tool\n",
      "http://pydoit.org\n",
      "\n",
      "Commands\n",
      "  ipykernel_launcher.py clean             clean action / remove targets\n",
      "  ipykernel_launcher.py dumpdb            dump dependency DB\n",
      "  ipykernel_launcher.py forget            clear successful run status from internal DB\n",
      "  ipykernel_launcher.py help              show help\n",
      "  ipykernel_launcher.py ignore            ignore task (skip) on subsequent runs\n",
      "  ipykernel_launcher.py info              show info about a task\n",
      "  ipykernel_launcher.py list              list tasks from dodo file\n",
      "  ipykernel_launcher.py reset-dep         recompute and save the state of file dependencies without executing actions\n",
      "  ipykernel_launcher.py run               run tasks\n",
      "  ipykernel_launcher.py strace            use strace to list file_deps and targets\n",
      "  ipykernel_launcher.py tabcompletion     generate script for tab-completion\n",
      "\n",
      "  ipykernel_launcher.py help              show help / reference\n",
      "  ipykernel_launcher.py help task         show help on task dictionary fields\n",
      "  ipykernel_launcher.py help <command>    show command usage\n",
      "  ipykernel_launcher.py help <task-name>  show task usage\n"
     ]
    }
   ],
   "source": [
    "%doit --help"
   ]
  },
  {
   "cell_type": "markdown",
   "id": "6a5bf8b6-5c58-4dc8-8dc8-c87e0fec78dd",
   "metadata": {},
   "source": [
    "### `doit list`\n",
    "\n",
    "Get the available tasks with `doit list`"
   ]
  },
  {
   "cell_type": "code",
   "execution_count": 4,
   "id": "98debaa8-42f3-44c6-8ff5-1c68c29f177c",
   "metadata": {
    "tags": []
   },
   "outputs": [
    {
     "name": "stdout",
     "output_type": "stream",
     "text": [
      "R greet      ... 1 greet tasks\n",
      "\n",
      "R greet:     greet the reader\n",
      "\n",
      "R mermaid    ... 1 mermaid tasks\n",
      "\n",
      "R mermaid:   show this project as a MermaidJS graph\n",
      "\n",
      "R show       ... 1 show tasks\n",
      "\n",
      "R show:      dump the doit config as YAML\n",
      "\n"
     ]
    }
   ],
   "source": [
    "%doit list --all --status --deps"
   ]
  },
  {
   "cell_type": "markdown",
   "id": "6c10e443-29d1-4817-bfcb-03b362c08e4d",
   "metadata": {},
   "source": [
    "### `doit [run]`"
   ]
  },
  {
   "cell_type": "code",
   "execution_count": 5,
   "id": "9461a614-b902-448b-91b6-32d7936df06f",
   "metadata": {
    "tags": []
   },
   "outputs": [
    {
     "name": "stdout",
     "output_type": "stream",
     "text": [
      ".  greet:\n",
      "Hello ['world']\n"
     ]
    }
   ],
   "source": [
    "%doit greet"
   ]
  },
  {
   "cell_type": "code",
   "execution_count": 6,
   "id": "24aa0431-af2d-48b0-95f8-f3c24448b45a",
   "metadata": {
    "tags": []
   },
   "outputs": [
    {
     "name": "stdout",
     "output_type": "stream",
     "text": [
      ".  greet:\n",
      "Hello ['world']\n"
     ]
    }
   ],
   "source": [
    "%doit run greet"
   ]
  },
  {
   "cell_type": "markdown",
   "id": "36ad95b9-aafe-41be-9002-95fe02b8fa0e",
   "metadata": {},
   "source": [
    "## looking at `doitoml`\n",
    "\n",
    "Theree are two tasks defined in [`pyproject.toml`](./pyproject.toml) for looking at the current state of `pyproject.toml`. These are implemented in [`dodo.py`](./dodo.py)."
   ]
  },
  {
   "cell_type": "code",
   "execution_count": 7,
   "id": "e7f72202-8834-417c-a292-69bbd260499d",
   "metadata": {
    "tags": []
   },
   "outputs": [
    {
     "name": "stdout",
     "output_type": "stream",
     "text": [
      ".  greet:\n",
      "Hello ['world']\n",
      ".  show:\n"
     ]
    },
    {
     "data": {
      "application/json": {
       "env": {
        "CLICOLOR": "1",
        "CLICOLOR_FORCE": "1",
        "COLORTERM": "truecolor",
        "CONDA_DEFAULT_ENV": "/home/weg/projects/deathbeds/doitoml/.venv",
        "CONDA_EXE": "/home/weg/mf/bin/conda",
        "CONDA_PREFIX": "/home/weg/projects/deathbeds/doitoml/.venv",
        "CONDA_PREFIX_1": "/home/weg/mf",
        "CONDA_PROMPT_MODIFIER": "(/home/weg/projects/deathbeds/doitoml/.venv) ",
        "CONDA_PYTHON_EXE": "/home/weg/mf/bin/python",
        "CONDA_SHLVL": "2",
        "DBUS_SESSION_BUS_ADDRESS": "unix:path=/run/user/1000/bus",
        "DESKTOP_SESSION": "ubuntu",
        "DISPLAY": ":1",
        "EDITOR": "vim",
        "FORCE_COLOR": "1",
        "GDMSESSION": "ubuntu",
        "GIO_LAUNCHED_DESKTOP_FILE": "/usr/share/applications/terminator.desktop",
        "GIO_LAUNCHED_DESKTOP_FILE_PID": "3480",
        "GIT_PAGER": "cat",
        "GJS_DEBUG_OUTPUT": "stderr",
        "GJS_DEBUG_TOPICS": "JS ERROR;JS LOG",
        "GNOME_DESKTOP_SESSION_ID": "this-is-deprecated",
        "GNOME_SHELL_SESSION_MODE": "ubuntu",
        "GPG_AGENT_INFO": "/run/user/1000/gnupg/S.gpg-agent:0:1",
        "GSETTINGS_SCHEMA_DIR": "/home/weg/projects/deathbeds/doitoml/.venv/share/glib-2.0/schemas",
        "GSETTINGS_SCHEMA_DIR_CONDA_BACKUP": "",
        "GTK_IM_MODULE": "ibus",
        "GTK_MODULES": "gail:atk-bridge",
        "HOME": "/home/weg",
        "IBUS_DISABLE_SNOOPER": "1",
        "IM_CONFIG_PHASE": "1",
        "INVOCATION_ID": "0eb4dcd53e5c4d0ea5fbbc028b044d0f",
        "JOURNAL_STREAM": "8:33786",
        "JPY_PARENT_PID": "1070952",
        "JPY_SESSION_NAME": "/home/weg/projects/deathbeds/doitoml/lite/Example.ipynb",
        "LANG": "en_US.UTF-8",
        "LESSCLOSE": "/usr/bin/lesspipe %s %s",
        "LESSOPEN": "| /usr/bin/lesspipe %s",
        "LOGNAME": "weg",
        "LS_COLORS": "rs=0:di=01;34:ln=01;36:mh=00:pi=40;33:so=01;35:do=01;35:bd=40;33;01:cd=40;33;01:or=40;31;01:mi=00:su=37;41:sg=30;43:ca=30;41:tw=30;42:ow=34;42:st=37;44:ex=01;32:*.tar=01;31:*.tgz=01;31:*.arc=01;31:*.arj=01;31:*.taz=01;31:*.lha=01;31:*.lz4=01;31:*.lzh=01;31:*.lzma=01;31:*.tlz=01;31:*.txz=01;31:*.tzo=01;31:*.t7z=01;31:*.zip=01;31:*.z=01;31:*.dz=01;31:*.gz=01;31:*.lrz=01;31:*.lz=01;31:*.lzo=01;31:*.xz=01;31:*.zst=01;31:*.tzst=01;31:*.bz2=01;31:*.bz=01;31:*.tbz=01;31:*.tbz2=01;31:*.tz=01;31:*.deb=01;31:*.rpm=01;31:*.jar=01;31:*.war=01;31:*.ear=01;31:*.sar=01;31:*.rar=01;31:*.alz=01;31:*.ace=01;31:*.zoo=01;31:*.cpio=01;31:*.7z=01;31:*.rz=01;31:*.cab=01;31:*.wim=01;31:*.swm=01;31:*.dwm=01;31:*.esd=01;31:*.jpg=01;35:*.jpeg=01;35:*.mjpg=01;35:*.mjpeg=01;35:*.gif=01;35:*.bmp=01;35:*.pbm=01;35:*.pgm=01;35:*.ppm=01;35:*.tga=01;35:*.xbm=01;35:*.xpm=01;35:*.tif=01;35:*.tiff=01;35:*.png=01;35:*.svg=01;35:*.svgz=01;35:*.mng=01;35:*.pcx=01;35:*.mov=01;35:*.mpg=01;35:*.mpeg=01;35:*.m2v=01;35:*.mkv=01;35:*.webm=01;35:*.webp=01;35:*.ogm=01;35:*.mp4=01;35:*.m4v=01;35:*.mp4v=01;35:*.vob=01;35:*.qt=01;35:*.nuv=01;35:*.wmv=01;35:*.asf=01;35:*.rm=01;35:*.rmvb=01;35:*.flc=01;35:*.avi=01;35:*.fli=01;35:*.flv=01;35:*.gl=01;35:*.dl=01;35:*.xcf=01;35:*.xwd=01;35:*.yuv=01;35:*.cgm=01;35:*.emf=01;35:*.ogv=01;35:*.ogx=01;35:*.aac=00;36:*.au=00;36:*.flac=00;36:*.m4a=00;36:*.mid=00;36:*.midi=00;36:*.mka=00;36:*.mp3=00;36:*.mpc=00;36:*.ogg=00;36:*.ra=00;36:*.wav=00;36:*.oga=00;36:*.opus=00;36:*.spx=00;36:*.xspf=00;36:",
        "MANAGERPID": "2392",
        "MPLBACKEND": "module://matplotlib_inline.backend_inline",
        "OLDPWD": "/home/weg/projects/deathbeds/doitoml/examples",
        "PAGER": "cat",
        "PATH": "/home/weg/projects/deathbeds/doitoml/.venv/bin:/home/weg/mf/condabin:/usr/local/sbin:/usr/local/bin:/usr/sbin:/usr/bin:/sbin:/bin:/usr/games:/usr/local/games:/snap/bin:/snap/bin",
        "PWD": "/home/weg/projects/deathbeds/doitoml",
        "PYDEVD_USE_FRAME_EVAL": "NO",
        "QT_ACCESSIBILITY": "1",
        "QT_IM_MODULE": "ibus",
        "SESSION_MANAGER": "local/floki:@/tmp/.ICE-unix/2759,unix/floki:/tmp/.ICE-unix/2759",
        "SHELL": "/bin/bash",
        "SHLVL": "1",
        "SSH_AGENT_LAUNCHER": "gnome-keyring",
        "SSH_AUTH_SOCK": "/run/user/1000/keyring/ssh",
        "SYSTEMD_EXEC_PID": "2778",
        "TERM": "xterm-color",
        "TERMINATOR_DBUS_NAME": "net.tenshu.Terminator23558193cd9818af7fe4d2c2f5bd9d00f",
        "TERMINATOR_DBUS_PATH": "/net/tenshu/Terminator2",
        "TERMINATOR_UUID": "urn:uuid:99ea41a5-23e2-458a-a42f-45cb1b036370",
        "USER": "weg",
        "USERNAME": "weg",
        "VISUAL": "vim",
        "VTE_VERSION": "6800",
        "WINDOWPATH": "2",
        "XAUTHORITY": "/run/user/1000/gdm/Xauthority",
        "XDG_CONFIG_DIRS": "/etc/xdg/xdg-ubuntu:/etc/xdg",
        "XDG_CURRENT_DESKTOP": "ubuntu:GNOME",
        "XDG_DATA_DIRS": "/usr/share/ubuntu:/usr/share/gnome:/usr/local/share/:/usr/share/:/var/lib/snapd/desktop",
        "XDG_MENU_PREFIX": "gnome-",
        "XDG_RUNTIME_DIR": "/run/user/1000",
        "XDG_SESSION_CLASS": "user",
        "XDG_SESSION_DESKTOP": "ubuntu",
        "XDG_SESSION_TYPE": "x11",
        "XMODIFIERS": "@im=ibus",
        "_": "/home/weg/projects/deathbeds/doitoml/.venv/bin/jupyter",
        "_CE_CONDA": "",
        "_CE_M": ""
       },
       "paths": {
        ":ppt": [
         "/home/weg/projects/deathbeds/doitoml/lite/pyproject.toml"
        ]
       },
       "tasks": {
        ":greet": {
         "actions": [
          {
           "py": {
            "dodo:greet": {
             "args": [],
             "kwargs": {
              "whom": [
               "world"
              ]
             }
            }
           }
          }
         ],
         "clean": [],
         "doc": "greet the reader",
         "file_dep": [],
         "meta": {
          "doitoml": {
           "cwd": "/home/weg/projects/deathbeds/doitoml/lite",
           "env": {},
           "log": [
            null,
            null
           ],
           "source": "/home/weg/projects/deathbeds/doitoml/lite/pyproject.toml"
          }
         },
         "targets": []
        },
        ":mermaid": {
         "actions": [
          {
           "py": {
            "dodo:mermaid": {
             "args": [],
             "kwargs": {}
            }
           }
          }
         ],
         "clean": [],
         "doc": "show this project as a MermaidJS graph",
         "file_dep": [],
         "meta": {
          "doitoml": {
           "cwd": "/home/weg/projects/deathbeds/doitoml/lite",
           "env": {},
           "log": [
            null,
            null
           ],
           "source": "/home/weg/projects/deathbeds/doitoml/lite/pyproject.toml"
          }
         },
         "targets": [],
         "task_dep": [
          "greet",
          "show"
         ]
        },
        ":show": {
         "actions": [
          {
           "py": {
            "dodo:dump": {
             "args": [],
             "kwargs": {}
            }
           }
          }
         ],
         "clean": [],
         "doc": "dump the doit config as YAML",
         "file_dep": [],
         "meta": {
          "doitoml": {
           "cwd": "/home/weg/projects/deathbeds/doitoml/lite",
           "env": {},
           "log": [
            null,
            null
           ],
           "source": "/home/weg/projects/deathbeds/doitoml/lite/pyproject.toml"
          }
         },
         "targets": [],
         "task_dep": [
          "greet"
         ]
        }
       },
       "templates": {},
       "tokens": {
        ":lite": [
         "jupyter",
         "lite"
        ]
       }
      },
      "text/plain": [
       "<IPython.core.display.JSON object>"
      ]
     },
     "metadata": {
      "application/json": {
       "expanded": false,
       "root": "root"
      }
     },
     "output_type": "display_data"
    }
   ],
   "source": [
    "%doit show"
   ]
  },
  {
   "cell_type": "code",
   "execution_count": 8,
   "id": "51f01291-459d-4055-bbb2-484af6425b54",
   "metadata": {
    "tags": []
   },
   "outputs": [
    {
     "name": "stdout",
     "output_type": "stream",
     "text": [
      ".  greet:\n",
      "Hello ['world']\n",
      ".  show:\n"
     ]
    },
    {
     "data": {
      "application/json": {
       "env": {
        "CLICOLOR": "1",
        "CLICOLOR_FORCE": "1",
        "COLORTERM": "truecolor",
        "CONDA_DEFAULT_ENV": "/home/weg/projects/deathbeds/doitoml/.venv",
        "CONDA_EXE": "/home/weg/mf/bin/conda",
        "CONDA_PREFIX": "/home/weg/projects/deathbeds/doitoml/.venv",
        "CONDA_PREFIX_1": "/home/weg/mf",
        "CONDA_PROMPT_MODIFIER": "(/home/weg/projects/deathbeds/doitoml/.venv) ",
        "CONDA_PYTHON_EXE": "/home/weg/mf/bin/python",
        "CONDA_SHLVL": "2",
        "DBUS_SESSION_BUS_ADDRESS": "unix:path=/run/user/1000/bus",
        "DESKTOP_SESSION": "ubuntu",
        "DISPLAY": ":1",
        "EDITOR": "vim",
        "FORCE_COLOR": "1",
        "GDMSESSION": "ubuntu",
        "GIO_LAUNCHED_DESKTOP_FILE": "/usr/share/applications/terminator.desktop",
        "GIO_LAUNCHED_DESKTOP_FILE_PID": "3480",
        "GIT_PAGER": "cat",
        "GJS_DEBUG_OUTPUT": "stderr",
        "GJS_DEBUG_TOPICS": "JS ERROR;JS LOG",
        "GNOME_DESKTOP_SESSION_ID": "this-is-deprecated",
        "GNOME_SHELL_SESSION_MODE": "ubuntu",
        "GPG_AGENT_INFO": "/run/user/1000/gnupg/S.gpg-agent:0:1",
        "GSETTINGS_SCHEMA_DIR": "/home/weg/projects/deathbeds/doitoml/.venv/share/glib-2.0/schemas",
        "GSETTINGS_SCHEMA_DIR_CONDA_BACKUP": "",
        "GTK_IM_MODULE": "ibus",
        "GTK_MODULES": "gail:atk-bridge",
        "HOME": "/home/weg",
        "IBUS_DISABLE_SNOOPER": "1",
        "IM_CONFIG_PHASE": "1",
        "INVOCATION_ID": "0eb4dcd53e5c4d0ea5fbbc028b044d0f",
        "JOURNAL_STREAM": "8:33786",
        "JPY_PARENT_PID": "1070952",
        "JPY_SESSION_NAME": "/home/weg/projects/deathbeds/doitoml/lite/Example.ipynb",
        "LANG": "en_US.UTF-8",
        "LESSCLOSE": "/usr/bin/lesspipe %s %s",
        "LESSOPEN": "| /usr/bin/lesspipe %s",
        "LOGNAME": "weg",
        "LS_COLORS": "rs=0:di=01;34:ln=01;36:mh=00:pi=40;33:so=01;35:do=01;35:bd=40;33;01:cd=40;33;01:or=40;31;01:mi=00:su=37;41:sg=30;43:ca=30;41:tw=30;42:ow=34;42:st=37;44:ex=01;32:*.tar=01;31:*.tgz=01;31:*.arc=01;31:*.arj=01;31:*.taz=01;31:*.lha=01;31:*.lz4=01;31:*.lzh=01;31:*.lzma=01;31:*.tlz=01;31:*.txz=01;31:*.tzo=01;31:*.t7z=01;31:*.zip=01;31:*.z=01;31:*.dz=01;31:*.gz=01;31:*.lrz=01;31:*.lz=01;31:*.lzo=01;31:*.xz=01;31:*.zst=01;31:*.tzst=01;31:*.bz2=01;31:*.bz=01;31:*.tbz=01;31:*.tbz2=01;31:*.tz=01;31:*.deb=01;31:*.rpm=01;31:*.jar=01;31:*.war=01;31:*.ear=01;31:*.sar=01;31:*.rar=01;31:*.alz=01;31:*.ace=01;31:*.zoo=01;31:*.cpio=01;31:*.7z=01;31:*.rz=01;31:*.cab=01;31:*.wim=01;31:*.swm=01;31:*.dwm=01;31:*.esd=01;31:*.jpg=01;35:*.jpeg=01;35:*.mjpg=01;35:*.mjpeg=01;35:*.gif=01;35:*.bmp=01;35:*.pbm=01;35:*.pgm=01;35:*.ppm=01;35:*.tga=01;35:*.xbm=01;35:*.xpm=01;35:*.tif=01;35:*.tiff=01;35:*.png=01;35:*.svg=01;35:*.svgz=01;35:*.mng=01;35:*.pcx=01;35:*.mov=01;35:*.mpg=01;35:*.mpeg=01;35:*.m2v=01;35:*.mkv=01;35:*.webm=01;35:*.webp=01;35:*.ogm=01;35:*.mp4=01;35:*.m4v=01;35:*.mp4v=01;35:*.vob=01;35:*.qt=01;35:*.nuv=01;35:*.wmv=01;35:*.asf=01;35:*.rm=01;35:*.rmvb=01;35:*.flc=01;35:*.avi=01;35:*.fli=01;35:*.flv=01;35:*.gl=01;35:*.dl=01;35:*.xcf=01;35:*.xwd=01;35:*.yuv=01;35:*.cgm=01;35:*.emf=01;35:*.ogv=01;35:*.ogx=01;35:*.aac=00;36:*.au=00;36:*.flac=00;36:*.m4a=00;36:*.mid=00;36:*.midi=00;36:*.mka=00;36:*.mp3=00;36:*.mpc=00;36:*.ogg=00;36:*.ra=00;36:*.wav=00;36:*.oga=00;36:*.opus=00;36:*.spx=00;36:*.xspf=00;36:",
        "MANAGERPID": "2392",
        "MPLBACKEND": "module://matplotlib_inline.backend_inline",
        "OLDPWD": "/home/weg/projects/deathbeds/doitoml/examples",
        "PAGER": "cat",
        "PATH": "/home/weg/projects/deathbeds/doitoml/.venv/bin:/home/weg/mf/condabin:/usr/local/sbin:/usr/local/bin:/usr/sbin:/usr/bin:/sbin:/bin:/usr/games:/usr/local/games:/snap/bin:/snap/bin",
        "PWD": "/home/weg/projects/deathbeds/doitoml",
        "PYDEVD_USE_FRAME_EVAL": "NO",
        "QT_ACCESSIBILITY": "1",
        "QT_IM_MODULE": "ibus",
        "SESSION_MANAGER": "local/floki:@/tmp/.ICE-unix/2759,unix/floki:/tmp/.ICE-unix/2759",
        "SHELL": "/bin/bash",
        "SHLVL": "1",
        "SSH_AGENT_LAUNCHER": "gnome-keyring",
        "SSH_AUTH_SOCK": "/run/user/1000/keyring/ssh",
        "SYSTEMD_EXEC_PID": "2778",
        "TERM": "xterm-color",
        "TERMINATOR_DBUS_NAME": "net.tenshu.Terminator23558193cd9818af7fe4d2c2f5bd9d00f",
        "TERMINATOR_DBUS_PATH": "/net/tenshu/Terminator2",
        "TERMINATOR_UUID": "urn:uuid:99ea41a5-23e2-458a-a42f-45cb1b036370",
        "USER": "weg",
        "USERNAME": "weg",
        "VISUAL": "vim",
        "VTE_VERSION": "6800",
        "WINDOWPATH": "2",
        "XAUTHORITY": "/run/user/1000/gdm/Xauthority",
        "XDG_CONFIG_DIRS": "/etc/xdg/xdg-ubuntu:/etc/xdg",
        "XDG_CURRENT_DESKTOP": "ubuntu:GNOME",
        "XDG_DATA_DIRS": "/usr/share/ubuntu:/usr/share/gnome:/usr/local/share/:/usr/share/:/var/lib/snapd/desktop",
        "XDG_MENU_PREFIX": "gnome-",
        "XDG_RUNTIME_DIR": "/run/user/1000",
        "XDG_SESSION_CLASS": "user",
        "XDG_SESSION_DESKTOP": "ubuntu",
        "XDG_SESSION_TYPE": "x11",
        "XMODIFIERS": "@im=ibus",
        "_": "/home/weg/projects/deathbeds/doitoml/.venv/bin/jupyter",
        "_CE_CONDA": "",
        "_CE_M": ""
       },
       "paths": {
        ":ppt": [
         "/home/weg/projects/deathbeds/doitoml/lite/pyproject.toml"
        ]
       },
       "tasks": {
        ":greet": {
         "actions": [
          {
           "py": {
            "dodo:greet": {
             "args": [],
             "kwargs": {
              "whom": [
               "world"
              ]
             }
            }
           }
          }
         ],
         "clean": [],
         "doc": "greet the reader",
         "file_dep": [],
         "meta": {
          "doitoml": {
           "cwd": "/home/weg/projects/deathbeds/doitoml/lite",
           "env": {},
           "log": [
            null,
            null
           ],
           "source": "/home/weg/projects/deathbeds/doitoml/lite/pyproject.toml"
          }
         },
         "targets": []
        },
        ":mermaid": {
         "actions": [
          {
           "py": {
            "dodo:mermaid": {
             "args": [],
             "kwargs": {}
            }
           }
          }
         ],
         "clean": [],
         "doc": "show this project as a MermaidJS graph",
         "file_dep": [],
         "meta": {
          "doitoml": {
           "cwd": "/home/weg/projects/deathbeds/doitoml/lite",
           "env": {},
           "log": [
            null,
            null
           ],
           "source": "/home/weg/projects/deathbeds/doitoml/lite/pyproject.toml"
          }
         },
         "targets": [],
         "task_dep": [
          "greet",
          "show"
         ]
        },
        ":show": {
         "actions": [
          {
           "py": {
            "dodo:dump": {
             "args": [],
             "kwargs": {}
            }
           }
          }
         ],
         "clean": [],
         "doc": "dump the doit config as YAML",
         "file_dep": [],
         "meta": {
          "doitoml": {
           "cwd": "/home/weg/projects/deathbeds/doitoml/lite",
           "env": {},
           "log": [
            null,
            null
           ],
           "source": "/home/weg/projects/deathbeds/doitoml/lite/pyproject.toml"
          }
         },
         "targets": [],
         "task_dep": [
          "greet"
         ]
        }
       },
       "templates": {},
       "tokens": {
        ":lite": [
         "jupyter",
         "lite"
        ]
       }
      },
      "text/plain": [
       "<IPython.core.display.JSON object>"
      ]
     },
     "metadata": {
      "application/json": {
       "expanded": false,
       "root": "root"
      }
     },
     "output_type": "display_data"
    },
    {
     "name": "stdout",
     "output_type": "stream",
     "text": [
      ".  mermaid:\n"
     ]
    },
    {
     "data": {
      "text/markdown": [
       "```mermaid\n",
       "flowchart LR\n",
       "greet\n",
       "greet & show --> mermaid\n",
       "greet --> show\n",
       "```"
      ],
      "text/plain": [
       "<IPython.core.display.Markdown object>"
      ]
     },
     "metadata": {},
     "output_type": "display_data"
    }
   ],
   "source": [
    "%doit mermaid"
   ]
  }
 ],
 "metadata": {
  "kernelspec": {
   "display_name": "Python 3 (ipykernel)",
   "language": "python",
   "name": "python3"
  },
  "language_info": {
   "codemirror_mode": {
    "name": "ipython",
    "version": 3
   },
   "file_extension": ".py",
   "mimetype": "text/x-python",
   "name": "python",
   "nbconvert_exporter": "python",
   "pygments_lexer": "ipython3",
   "version": "3.11.3"
  }
 },
 "nbformat": 4,
 "nbformat_minor": 5
}
