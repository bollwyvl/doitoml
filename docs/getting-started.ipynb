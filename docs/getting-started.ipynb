{
 "cells": [
  {
   "cell_type": "markdown",
   "id": "088d71e7-7866-4878-8141-cd9ed89a619d",
   "metadata": {},
   "source": [
    "# Getting Started"
   ]
  },
  {
   "cell_type": "markdown",
   "id": "4a8e7f9d-874e-4d61-83d0-fcbc3d4571b2",
   "metadata": {},
   "source": [
    "## Install `doitoml`\n",
    "\n",
    "Use your python package manager of choice to install a release of `doitoml`:\n",
    "\n",
    "````{tab-set}\n",
    "\n",
    "```{tab-item} PyPI\n",
    "~~~bash\n",
    "pip install doitoml\n",
    "~~~\n",
    "```\n",
    "\n",
    "```{tab-item} conda-forge\n",
    "~~~bash\n",
    "mamba install -c conda-forge doitoml\n",
    "~~~\n",
    "\n",
    "or\n",
    "\n",
    "~~~bash\n",
    "conda install -c conda-forge doitoml\n",
    "~~~\n",
    "```\n",
    "\n",
    "````"
   ]
  },
  {
   "cell_type": "markdown",
   "id": "6dd7545e-c0de-488c-bfd2-b35395159b46",
   "metadata": {},
   "source": [
    "<details>\n",
    "\n",
    "<summary>This will install...</summary>\n",
    "\n",
    "- `doitoml` and its dependencies\n",
    "  - `doit[toml]`\n",
    "  - `tomli` (if you're on python <3.11)\n",
    "\n",
    "</details>"
   ]
  },
  {
   "cell_type": "markdown",
   "id": "0eacfb47-fc26-4759-9814-5c7022b02a27",
   "metadata": {},
   "source": [
    "## Configure `doit`\n",
    "\n",
    "Like many python-based tools, `doit` prefers finding its [configuration in `pyproject.toml`](https://pydoit.org/configuration.html#pyproject-toml) under the `[tool.doit]` prefix. \n",
    "\n",
    "`doitoml` provide an _entry point_ for `doit.LOADER`, which offers task discovery features from files. As an alternative, advanced users of `dodo.py` can use the Python API."
   ]
  },
  {
   "cell_type": "markdown",
   "id": "79a1fc43-bc02-465e-9da4-87a216641d9a",
   "metadata": {},
   "source": [
    "```toml\n",
    "# pyproject.toml\n",
    "[tool.doit]\n",
    "loader = \"doitoml\"\n",
    "```"
   ]
  },
  {
   "cell_type": "markdown",
   "id": "24063e10-abfb-4fca-8c1f-66cba217db68",
   "metadata": {},
   "source": [
    "## Write Tasks\n",
    "\n",
    "_Tasks_ are the most important part of using `doit`. These are written in the `[tool.doitoml.tasks]` prefix. For readability, it's encouraged to fully write out tasks in their own sections."
   ]
  },
  {
   "cell_type": "markdown",
   "id": "581b0d9a-fe40-40cd-aca9-d51b096b1b8a",
   "metadata": {},
   "source": [
    "```toml\n",
    "# pyproject.toml\n",
    "[tool.doit]\n",
    "loader = \"doitoml\"\n",
    "\n",
    "[tool.doitoml.tasks.hello]\n",
    "actions = ['echo \"hello world\" > foo.txt']\n",
    "targets = [\"foo.txt\"]\n",
    "```"
   ]
  },
  {
   "cell_type": "markdown",
   "id": "e4e692f9-7a7d-4e33-ad88-407c865a6cb3",
   "metadata": {},
   "source": [
    "## Run Tasks\n",
    "\n",
    "By default, `doit [run]` will run **all** known tasks.\n",
    "\n",
    "```bash\n",
    "doit\n",
    "```"
   ]
  },
  {
   "cell_type": "markdown",
   "id": "64892611-b5ab-4868-a68b-343cddc15d61",
   "metadata": {},
   "source": [
    "## List Tasks\n",
    "\n",
    "Now you are ready to start working with your tasks:\n",
    "\n",
    "```bash\n",
    "doit list --all --status\n",
    "```\n",
    "\n",
    "This will print out the names of all runnable tasks, and whether they have been (or need to be) run."
   ]
  },
  {
   "cell_type": "markdown",
   "id": "ffff2ed1-c568-4a6e-af22-91dc99d69cc8",
   "metadata": {},
   "source": [
    "## Inspect Tasks\n",
    "\n",
    "With the name of the task from `list`, you can learn more about a specific task\n",
    "\n",
    "```bash\n",
    "doit info hello\n",
    "```\n",
    "\n",
    "This prints out more information about the task."
   ]
  }
 ],
 "metadata": {
  "kernelspec": {
   "display_name": "Python 3 (ipykernel)",
   "language": "python",
   "name": "python3"
  },
  "language_info": {
   "codemirror_mode": {
    "name": "ipython",
    "version": 3
   },
   "file_extension": ".py",
   "mimetype": "text/x-python",
   "name": "python",
   "nbconvert_exporter": "python",
   "pygments_lexer": "ipython3",
   "version": "3.11.2"
  }
 },
 "nbformat": 4,
 "nbformat_minor": 5
}
